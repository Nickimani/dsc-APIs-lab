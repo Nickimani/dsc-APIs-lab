{
 "cells": [
  {
   "cell_type": "markdown",
   "metadata": {},
   "source": [
    "# APIs - Cumulative Lab\n",
    "\n",
    "\n",
    "## Introduction \n",
    "\n",
    "We've seen how the Yelp API works and how to create basic visualizations using Folium. It's time to put those skills to work in order to create a working map! Taking things a step further, you'll also independently explore how to perform pagination in order to retrieve a full results set from the Yelp API.\n",
    "\n",
    "## Objectives\n",
    "\n",
    "You will be able to: \n",
    "\n",
    "* Practice using functions to organize your code\n",
    "* Use pagination to retrieve all results from an API query\n",
    "* Practice parsing data returned from an API query\n",
    "* Practice interpreting visualizations of a dataset\n",
    "* Create maps using Folium"
   ]
  },
  {
   "cell_type": "markdown",
   "metadata": {},
   "source": [
    "## Your Task: Query Yelp for All Businesses in a Category and Analyze the Results\n",
    "\n",
    "![restaurant counter with pizza](images/restaurant_counter.jpg)\n",
    "\n",
    "Photo by <a href=\"https://unsplash.com/@jordanmadrid?utm_source=unsplash&utm_medium=referral&utm_content=creditCopyText\">Jordan Madrid</a> on <a href=\"/s/photos/pizza-restaurant?utm_source=unsplash&utm_medium=referral&utm_content=creditCopyText\">Unsplash</a>"
   ]
  },
  {
   "cell_type": "markdown",
   "metadata": {},
   "source": [
    "### Overview\n",
    "\n",
    "You've now worked with some API calls, but we have yet to see how to retrieve a more complete dataset in a programmatic manner. In this lab, you will write a query of businesses on Yelp, then use *pagination* to retrieve all possible results for that query. Then you will create a summary of your findings, including a Folium map of the geographic locations of those businesses.\n",
    "\n",
    "### Technical Details\n",
    "\n",
    "Returning to the Yelp API, the [documentation](https://www.yelp.com/developers/documentation/v3/business_search) also provides us details regarding the **API limits**. These often include details about the number of requests a user is allowed to make within a specified time limit and the maximum number of results to be returned. In this case, we are told that any request has a **maximum of 50 results per request** and defaults to 20. Furthermore, any search will be limited to a **total of 1000 results**. To retrieve all 1000 of these results, we would have to page through the results piece by piece, retrieving 50 at a time. Processes such as these are often referred to as pagination.\n",
    "\n",
    "Also, be mindful of the **API** ***rate*** **limits**. You can only make **5000 requests per day** and are also can make requests too fast. Start prototyping small before running a loop that could be faulty. You can also use `time.sleep(n)` to add delays. For more details see https://www.yelp.com/developers/documentation/v3/rate_limiting.\n",
    "\n",
    "In this lab, you will define a search and then paginate over the results to retrieve all of the results. You'll then parse these responses as a list of dictionaries (for further exploration) and create a map using Folium to visualize the results geographically.\n",
    "\n",
    "### Requirements\n",
    "\n",
    "#### 1. Make the Initial Request\n",
    "\n",
    "Start by filling in your API key to make the initial request to the business search API. Investigate the structure of the response you get back and start figuring out how you will extract the relevant information.\n",
    "\n",
    "#### 2. Add Pagination\n",
    "\n",
    "Using loops and functions, collect the maximum number of results for your query from the API.\n",
    "\n",
    "#### 3. Perform Exploratory Analysis\n",
    "\n",
    "Interpret visualizations related to the price range, average rating, and number of reviews for all query results.\n",
    "\n",
    "#### 4. Create a Folium Map\n",
    "\n",
    "Using latitude and longitude data, plot the query results on an interactive map."
   ]
  },
  {
   "cell_type": "markdown",
   "metadata": {},
   "source": [
    "## 1. Make the Initial Request\n",
    "\n",
    "### Querying\n",
    "\n",
    "Start by making an initial request to the Yelp API. Your search must include at least 2 parameters: **term** and **location**. For example, you might search for pizza restaurants in NYC. The term and location is up to you but make the request below.\n",
    "\n",
    "Use the `requests` library ([documentation here](https://requests.readthedocs.io/en/master/user/quickstart/#make-a-request)).\n",
    "\n",
    "You'll also need an API key from Yelp. If you haven't done this already, go to the Yelp [Manage App page](https://www.yelp.com/developers/v3/manage_app) and create a new app (after making an account if you haven't already)."
   ]
  },
  {
   "cell_type": "code",
   "execution_count": 1,
   "metadata": {},
   "outputs": [
    {
     "data": {
      "text/plain": [
       "<Response [200]>"
      ]
     },
     "execution_count": 1,
     "metadata": {},
     "output_type": "execute_result"
    }
   ],
   "source": [
    "# Replace None with appropriate code\n",
    "\n",
    "# Import the requests library\n",
    "import requests\n",
    "import json\n",
    "\n",
    "# load the api key file\n",
    "with open('/home/nick/Documents/Flatiron/.secret/yelp_api.json') as f:\n",
    "    key = json.load(f)\n",
    "    \n",
    "# Get this from the \"Manage App\" page. Make sure you set them\n",
    "# back to None before pushing this to GitHub, since otherwise\n",
    "# your credentials will be compromised\n",
    "api_key = key['api_key']\n",
    "\n",
    "# These can be whatever you want! But the solution uses \"pizza\"\n",
    "# and \"New York NY\" if you want to compare your work directly\n",
    "term = 'pizza'\n",
    "location = 'New York NY'\n",
    "\n",
    "# Set up params for request\n",
    "url = \"https://api.yelp.com/v3/businesses/search\"\n",
    "headers = {\n",
    "    \"Authorization\": \"Bearer {}\".format(api_key)\n",
    "}\n",
    "url_params = {\n",
    "    \"term\": term.replace(\" \", \"+\"),\n",
    "    \"location\": location.replace(\" \", \"+\")\n",
    "}\n",
    "\n",
    "# Make the request using requests.get, passing in\n",
    "# url, headers=headers, and params=url_params\n",
    "response = requests.get(url, headers=headers, params=url_params)\n",
    "\n",
    "# Confirm we got a 200 response\n",
    "response"
   ]
  },
  {
   "cell_type": "code",
   "execution_count": 2,
   "metadata": {},
   "outputs": [
    {
     "data": {
      "text/plain": [
       "dict_keys(['businesses', 'total', 'region'])"
      ]
     },
     "execution_count": 2,
     "metadata": {},
     "output_type": "execute_result"
    }
   ],
   "source": [
    "# Run this cell without changes\n",
    "\n",
    "# Get the response body in JSON format\n",
    "response_json = response.json()\n",
    "# View the keys\n",
    "response_json.keys()"
   ]
  },
  {
   "cell_type": "markdown",
   "metadata": {},
   "source": [
    "### Extracting Data\n",
    "\n",
    "Now, retrieve the value associated with the `'businesses'` key, and inspect its contents."
   ]
  },
  {
   "cell_type": "code",
   "execution_count": 3,
   "metadata": {},
   "outputs": [
    {
     "data": {
      "text/plain": [
       "[{'id': 'zj8Lq1T8KIC5zwFief15jg',\n",
       "  'alias': 'prince-street-pizza-new-york-2',\n",
       "  'name': 'Prince Street Pizza',\n",
       "  'image_url': 'https://s3-media3.fl.yelpcdn.com/bphoto/ZAukOyv530w4KjOHC5YY1w/o.jpg',\n",
       "  'is_closed': False,\n",
       "  'url': 'https://www.yelp.com/biz/prince-street-pizza-new-york-2?adjust_creative=mMwcd7obZZpLGZ7YirPCHg&utm_campaign=yelp_api_v3&utm_medium=api_v3_business_search&utm_source=mMwcd7obZZpLGZ7YirPCHg',\n",
       "  'review_count': 4308,\n",
       "  'categories': [{'alias': 'pizza', 'title': 'Pizza'},\n",
       "   {'alias': 'italian', 'title': 'Italian'}],\n",
       "  'rating': 4.5,\n",
       "  'coordinates': {'latitude': 40.72308755605564,\n",
       "   'longitude': -73.99453001177575},\n",
       "  'transactions': ['pickup', 'delivery'],\n",
       "  'price': '$',\n",
       "  'location': {'address1': '27 Prince St',\n",
       "   'address2': None,\n",
       "   'address3': '',\n",
       "   'city': 'New York',\n",
       "   'zip_code': '10012',\n",
       "   'country': 'US',\n",
       "   'state': 'NY',\n",
       "   'display_address': ['27 Prince St', 'New York, NY 10012']},\n",
       "  'phone': '+12129664100',\n",
       "  'display_phone': '(212) 966-4100',\n",
       "  'distance': 1961.8771417367063},\n",
       " {'id': 'ysqgdbSrezXgVwER2kQWKA',\n",
       "  'alias': 'julianas-brooklyn-3',\n",
       "  'name': \"Juliana's\",\n",
       "  'image_url': 'https://s3-media2.fl.yelpcdn.com/bphoto/clscwgOF9_Ecq-Rwsq7jyQ/o.jpg',\n",
       "  'is_closed': False,\n",
       "  'url': 'https://www.yelp.com/biz/julianas-brooklyn-3?adjust_creative=mMwcd7obZZpLGZ7YirPCHg&utm_campaign=yelp_api_v3&utm_medium=api_v3_business_search&utm_source=mMwcd7obZZpLGZ7YirPCHg',\n",
       "  'review_count': 2431,\n",
       "  'categories': [{'alias': 'pizza', 'title': 'Pizza'}],\n",
       "  'rating': 4.5,\n",
       "  'coordinates': {'latitude': 40.70274718768062,\n",
       "   'longitude': -73.99343490196397},\n",
       "  'transactions': ['delivery'],\n",
       "  'price': '$$',\n",
       "  'location': {'address1': '19 Old Fulton St',\n",
       "   'address2': '',\n",
       "   'address3': '',\n",
       "   'city': 'Brooklyn',\n",
       "   'zip_code': '11201',\n",
       "   'country': 'US',\n",
       "   'state': 'NY',\n",
       "   'display_address': ['19 Old Fulton St', 'Brooklyn, NY 11201']},\n",
       "  'phone': '+17185966700',\n",
       "  'display_phone': '(718) 596-6700',\n",
       "  'distance': 308.56984360837544}]"
      ]
     },
     "execution_count": 3,
     "metadata": {},
     "output_type": "execute_result"
    }
   ],
   "source": [
    "# Replace None with appropriate code\n",
    "\n",
    "# Retrieve the value from response_json\n",
    "businesses = response_json['businesses']\n",
    "\n",
    "# View the first 2 records\n",
    "businesses[:2]"
   ]
  },
  {
   "cell_type": "markdown",
   "metadata": {},
   "source": [
    "### Preparing Data\n",
    "\n",
    "Write a function `prepare_data` that takes in a list of dictionaries like `businesses` and returns a copy that has been prepared for analysis:\n",
    "\n",
    "1. The `coordinates` key-value pair has been converted into two separate key-value pairs, `latitude` and `longitude`\n",
    "2. All other key-value pairs except for `name`, `review_count`, `rating`, and `price` have been dropped\n",
    "3. All dictionaries missing one of the relevant keys or containing null values have been dropped\n",
    "\n",
    "In other words, the final keys for each dictionary should be `name`, `review_count`, `rating`, `price`, `latitude`, and `longitude`.\n",
    "\n",
    "Complete the function in the cell below:"
   ]
  },
  {
   "cell_type": "code",
   "execution_count": 4,
   "metadata": {},
   "outputs": [
    {
     "data": {
      "text/plain": [
       "[{'latitude': 40.72308755605564,\n",
       "  'longitude': -73.99453001177575,\n",
       "  'name': 'Prince Street Pizza',\n",
       "  'review_count': 4308,\n",
       "  'rating': 4.5,\n",
       "  'price': '$'},\n",
       " {'latitude': 40.70274718768062,\n",
       "  'longitude': -73.99343490196397,\n",
       "  'name': \"Juliana's\",\n",
       "  'review_count': 2431,\n",
       "  'rating': 4.5,\n",
       "  'price': '$$'},\n",
       " {'latitude': 40.7215934960083,\n",
       "  'longitude': -73.9955956044561,\n",
       "  'name': \"Lombardi's Pizza\",\n",
       "  'review_count': 6304,\n",
       "  'rating': 4.0,\n",
       "  'price': '$$'},\n",
       " {'latitude': 40.6818,\n",
       "  'longitude': -74.00024,\n",
       "  'name': 'Lucali',\n",
       "  'review_count': 1787,\n",
       "  'rating': 4.0,\n",
       "  'price': '$$'},\n",
       " {'latitude': 40.722766,\n",
       "  'longitude': -73.996233,\n",
       "  'name': 'Rubirosa',\n",
       "  'review_count': 2630,\n",
       "  'rating': 4.5,\n",
       "  'price': '$$'}]"
      ]
     },
     "execution_count": 4,
     "metadata": {},
     "output_type": "execute_result"
    }
   ],
   "source": [
    "# Replace None with appropriate code\n",
    "\n",
    "def prepare_data(data_list):\n",
    "    \"\"\"\n",
    "    This function takes in a list of dictionaries and prepares it\n",
    "    for analysis\n",
    "    \"\"\"\n",
    "    \n",
    "    # Make a new list to hold results\n",
    "    results = []\n",
    "    \n",
    "    for business_data in data_list:\n",
    "    \n",
    "        # Make a new dictionary to hold prepared data for this business\n",
    "        prepared_data = {}\n",
    "        required = ['name', 'review_count', 'rating', 'price']\n",
    "        \n",
    "        # Extract name, review_count, rating, and price key-value pairs\n",
    "        # from business_data and add to prepared_data\n",
    "        # If a key is not present in business_data, add it to prepared_data\n",
    "        # with an associated value of None\n",
    "        for key, value in business_data.items():\n",
    "            if key == 'name':\n",
    "                prepared_data[key] = value\n",
    "            elif key == 'review_count':\n",
    "                prepared_data[key] = value\n",
    "            elif key == 'rating':\n",
    "                prepared_data[key] = value\n",
    "            elif key == 'price':\n",
    "                prepared_data[key] = value\n",
    "        # If a key is not present in business_data, add it to prepared_data\n",
    "        # with an associated value of None\n",
    "            elif 'name' not in business_data.keys():\n",
    "                prepared_data['name'] = None\n",
    "            elif 'review_count' not in business_data.keys():\n",
    "                prepared_data['review_count'] = None\n",
    "            elif 'rating' not in business_data.keys():\n",
    "                prepared_data['rating'] = None\n",
    "            elif 'price' not in business_data.keys():\n",
    "                prepared_data['price'] = None\n",
    "    \n",
    "        # Parse and add latitude and longitude columns\n",
    "            prepared_data['latitude'] = business_data['coordinates']['latitude']\n",
    "            prepared_data['longitude'] =  business_data['coordinates']['longitude']\n",
    "        \n",
    "        # Add to list if all values are present\n",
    "        if all(prepared_data.values()):\n",
    "            results.append(prepared_data)\n",
    "    \n",
    "    return results\n",
    "    \n",
    "# Test out function\n",
    "prepared_businesses = prepare_data(businesses)\n",
    "prepared_businesses[:5]"
   ]
  },
  {
   "cell_type": "markdown",
   "metadata": {},
   "source": [
    "Check that your function created the correct keys:"
   ]
  },
  {
   "cell_type": "code",
   "execution_count": 5,
   "metadata": {},
   "outputs": [],
   "source": [
    "# Run this cell without changes\n",
    "\n",
    "assert sorted(list(prepared_businesses[0].keys())) == ['latitude', 'longitude', 'name', 'price', 'rating', 'review_count']"
   ]
  },
  {
   "cell_type": "markdown",
   "metadata": {},
   "source": [
    "The following code will differ depending on your query, but we expect there to be 20 businesses in the original list, and potentially fewer in the prepared list (if any of them were missing data):"
   ]
  },
  {
   "cell_type": "code",
   "execution_count": 6,
   "metadata": {},
   "outputs": [
    {
     "name": "stdout",
     "output_type": "stream",
     "text": [
      "Original: 20\n",
      "Prepared: 20\n"
     ]
    }
   ],
   "source": [
    "# Run this cell without changes\n",
    "print(\"Original:\", len(businesses))\n",
    "print(\"Prepared:\", len(prepared_businesses))"
   ]
  },
  {
   "cell_type": "markdown",
   "metadata": {},
   "source": [
    "Great! We will reuse this function once we have retrieved the full dataset."
   ]
  },
  {
   "cell_type": "markdown",
   "metadata": {},
   "source": [
    "## 2. Add Pagination\n",
    "\n",
    "Now that you are able to extract information from one page of the response, let's figure out how to request as many pages as possible.\n",
    "\n",
    "### Determining the Total\n",
    "\n",
    "Depending on the number of total results for your query, you will either retrieve all of the results, or just the first 1000 (if there are more than 1000 total).\n",
    "\n",
    "We can find the total number of results using the `\"total\"` key:"
   ]
  },
  {
   "cell_type": "code",
   "execution_count": 7,
   "metadata": {},
   "outputs": [
    {
     "data": {
      "text/plain": [
       "12000"
      ]
     },
     "execution_count": 7,
     "metadata": {},
     "output_type": "execute_result"
    }
   ],
   "source": [
    "# Run this cell without changes\n",
    "response_json[\"total\"]"
   ]
  },
  {
   "cell_type": "markdown",
   "metadata": {},
   "source": [
    "(This is specific to the implementation of the Yelp API. Some APIs will just tell you that there are more pages, or will tell you the number of pages total, rather than the total number of results. If you're not sure, always check the documentation.)\n",
    "\n",
    "In the cell below, assign the variable `total` to either the value shown above (if it is less than 1000), or 1000."
   ]
  },
  {
   "cell_type": "code",
   "execution_count": 8,
   "metadata": {},
   "outputs": [],
   "source": [
    "# Replace None with appropriate code\n",
    "total = 1000"
   ]
  },
  {
   "cell_type": "markdown",
   "metadata": {},
   "source": [
    "### Calculating the Offsets\n",
    "\n",
    "The documentation states in the parameters section:\n",
    "\n",
    "> **Name**: `limit`, **Type:** int, **Description:** Optional. Number of business results to return. By default, it will return 20. Maximum is 50.\n",
    "\n",
    "> **Name**: `offset`, **Type:** int, **Description:** Optional. Offset the list of returned business results by this amount.\n",
    "\n",
    "So, to get the most results with the fewest API calls we want to set a limit of 50 every time. If, say, we wanted to get 210 total results, that would mean:\n",
    "\n",
    "1. Offset of `0` (first 50 records)\n",
    "2. Offset of `50` (second 50 records)\n",
    "3. Offset of `100` (third 50 records)\n",
    "4. Offset of `150` (fourth 50 records)\n",
    "5. Offset of `200` (final 10 records)\n",
    "\n",
    "In the cell below, create a function `get_offsets` that takes in a total and returns a list of offsets for that total. You can assume that there is a limit of 50 every time.\n",
    "\n",
    "*Hint: you can use `range` ([documentation here](https://docs.python.org/3.3/library/stdtypes.html?highlight=range#range)) to do this in one line of code. Just make the returned result is a list.*"
   ]
  },
  {
   "cell_type": "code",
   "execution_count": 9,
   "metadata": {},
   "outputs": [],
   "source": [
    "# Replace None with appropriate code\n",
    "def get_offsets(total):\n",
    "    \"\"\"\n",
    "    Get a list of offsets needed to get all pages\n",
    "    of data up until the total\n",
    "    \"\"\" \n",
    "    # creating a list of offset values to loop through\n",
    "    offset = list(range(0, total, 50))\n",
    "    \n",
    "    return offset    "
   ]
  },
  {
   "cell_type": "markdown",
   "metadata": {},
   "source": [
    "Check that your function works below:"
   ]
  },
  {
   "cell_type": "code",
   "execution_count": 10,
   "metadata": {},
   "outputs": [],
   "source": [
    "# Run this cell without changes\n",
    "\n",
    "assert get_offsets(200) == [0, 50, 100, 150]\n",
    "assert get_offsets(210) == [0, 50, 100, 150, 200]"
   ]
  },
  {
   "cell_type": "markdown",
   "metadata": {},
   "source": [
    "### Putting It All Together\n",
    "\n",
    "Recall that the following variable has already been declared for you:"
   ]
  },
  {
   "cell_type": "code",
   "execution_count": 11,
   "metadata": {},
   "outputs": [
    {
     "data": {
      "text/plain": [
       "{'term': 'pizza', 'location': 'New+York+NY'}"
      ]
     },
     "execution_count": 11,
     "metadata": {},
     "output_type": "execute_result"
    }
   ],
   "source": [
    "# Run this cell without changes\n",
    "url_params"
   ]
  },
  {
   "cell_type": "markdown",
   "metadata": {},
   "source": [
    "We'll go ahead and also specify that the limit should be 50 every time:"
   ]
  },
  {
   "cell_type": "code",
   "execution_count": 12,
   "metadata": {},
   "outputs": [],
   "source": [
    "# Run this cell without changes\n",
    "url_params[\"limit\"] = 50"
   ]
  },
  {
   "cell_type": "markdown",
   "metadata": {},
   "source": [
    "In order to modify the offset, you'll need to add it to `url_params` with the key `\"offset\"` and whatever value is needed.\n",
    "\n",
    "In the cell below, write code that:\n",
    "\n",
    "* Creates an empty list for the full prepared dataset\n",
    "* Loops over all of the offsets from `get_offsets` and makes an API call each time with the specified offset\n",
    "* Calls `prepare_data` to get a cleaned version of the result of each API call\n",
    "* Extends the full prepared dataset list with each query's prepared dataset"
   ]
  },
  {
   "cell_type": "code",
   "execution_count": 13,
   "metadata": {},
   "outputs": [
    {
     "data": {
      "text/plain": [
       "[0, 50, 100, 150]"
      ]
     },
     "execution_count": 13,
     "metadata": {},
     "output_type": "execute_result"
    }
   ],
   "source": [
    "get_offsets(180)"
   ]
  },
  {
   "cell_type": "code",
   "execution_count": 14,
   "metadata": {},
   "outputs": [
    {
     "data": {
      "text/plain": [
       "788"
      ]
     },
     "execution_count": 14,
     "metadata": {},
     "output_type": "execute_result"
    }
   ],
   "source": [
    "# Replace None with appropriate code\n",
    "import time\n",
    "\n",
    "# Create an empty list for the full prepared dataset\n",
    "full_dataset = []\n",
    "\n",
    "for offset in get_offsets(total):\n",
    "    # Add or update the \"offset\" key-value pair in url_params\n",
    "    url_params['offset'] = offset\n",
    "    \n",
    "    # Make the query and get the response\n",
    "    response = requests.get(url, headers=headers, params=url_params)\n",
    "    time.sleep(1)\n",
    "    \n",
    "    # Get the response body in JSON format\n",
    "    response_json = response.json()\n",
    "    \n",
    "    # Get the list of businesses from the response_json\n",
    "    businesses = response_json['businesses']\n",
    "    \n",
    "    # Call the prepare_data function to get a list of processed data\n",
    "    prepared_businesses = prepare_data(businesses)\n",
    "    \n",
    "    # Extend full_dataset with this list (don't append, or you'll get\n",
    "    # a list of lists instead of a flat list)\n",
    "    full_dataset.extend(prepared_businesses)\n",
    "\n",
    "# Check the length of the full dataset. It will be up to `total`,\n",
    "# potentially less if there were missing values\n",
    "len(full_dataset)"
   ]
  },
  {
   "cell_type": "markdown",
   "metadata": {},
   "source": [
    "This code may take up to a few minutes to run.\n",
    "\n",
    "If you get an error trying to get the response body in JSON format, try adding `time.sleep(1)` right after the `requests.get` line, so your code will sleep for 1 second between each API call."
   ]
  },
  {
   "cell_type": "markdown",
   "metadata": {},
   "source": [
    "## 3. Perform Exploratory Analysis\n",
    "\n",
    "Take the businesses from the previous question and do an initial exploratory analysis. We have provided some plots for you to interpret:"
   ]
  },
  {
   "cell_type": "code",
   "execution_count": 15,
   "metadata": {},
   "outputs": [
    {
     "data": {
      "image/png": "[encoded data removed]",
      "text/plain": [
       "<Figure size 1152x360 with 3 Axes>"
      ]
     },
     "metadata": {
      "needs_background": "light"
     },
     "output_type": "display_data"
    }
   ],
   "source": [
    "# Run this cell without changes\n",
    "from collections import Counter\n",
    "import matplotlib.pyplot as plt\n",
    "%matplotlib inline\n",
    "\n",
    "fig, (ax1, ax2, ax3) = plt.subplots(ncols=3, figsize=(16, 5))\n",
    "\n",
    "# Plot distribution of number of reviews\n",
    "all_review_counts = [x[\"review_count\"] for x in full_dataset]\n",
    "ax1.hist(all_review_counts)\n",
    "ax1.set_title(\"Review Count Distribution\")\n",
    "ax1.set_xlabel(\"Number of Reviews\")\n",
    "ax1.set_ylabel(\"Number of Businesses\")\n",
    "\n",
    "# Plot rating distribution\n",
    "all_ratings = [x[\"rating\"] for x in full_dataset]\n",
    "rating_counter = Counter(all_ratings)\n",
    "rating_keys = sorted(rating_counter.keys())\n",
    "ax2.bar(rating_keys, [rating_counter[key] for key in rating_keys])\n",
    "ax2.set_title(\"Rating Distribution\")\n",
    "ax2.set_xlabel(\"Rating\")\n",
    "ax2.set_ylabel(\"Number of Businesses\")\n",
    "\n",
    "# Plot price distribution\n",
    "all_prices = [x[\"price\"].replace(\"$\", r\"\\$\") for x in full_dataset]\n",
    "price_counter = Counter(all_prices)\n",
    "price_keys = sorted(price_counter.keys())\n",
    "ax3.bar(price_keys, [price_counter[key] for key in price_keys])\n",
    "ax3.set_title(\"Price Distribution\")\n",
    "ax3.set_xlabel(\"Price Category\")\n",
    "ax3.set_ylabel(\"Number of Businesses\");"
   ]
  },
  {
   "cell_type": "markdown",
   "metadata": {},
   "source": [
    "Describe the distributions displayed above and interpret them in the context of your query. (Your answer may differ from the solution branch depending on your query.)"
   ]
  },
  {
   "cell_type": "code",
   "execution_count": 48,
   "metadata": {},
   "outputs": [
    {
     "data": {
      "text/plain": [
       "'\\nMost businesses rarely get reviews.\\nHowever generally, businesses get a rating of 4.0 from their customers whenever they make a review.\\nThe number of businesses that sell pizza at a high price are low, with most businesses selling them at $ and $$\\n'"
      ]
     },
     "execution_count": 48,
     "metadata": {},
     "output_type": "execute_result"
    }
   ],
   "source": [
    "# Replace None with appropriate text\n",
    "\"\"\"\n",
    "Most businesses rarely get reviews.\n",
    "However generally, businesses get a rating of 4.0 from their customers whenever they make a review.\n",
    "The number of businesses that sell pizza at a high price are low, with most businesses selling them at $ and $$\n",
    "\"\"\""
   ]
  },
  {
   "cell_type": "markdown",
   "metadata": {},
   "source": [
    "In the cell below, we also plot the rating distributions by price. In this setup, a price of one dollar sign is \"lower price\" and everything else is \"higher price\"."
   ]
  },
  {
   "cell_type": "code",
   "execution_count": 49,
   "metadata": {},
   "outputs": [
    {
     "data": {
      "image/png": "[encoded data removed]",
      "text/plain": [
       "<Figure size 432x288 with 1 Axes>"
      ]
     },
     "metadata": {
      "needs_background": "light"
     },
     "output_type": "display_data"
    }
   ],
   "source": [
    "# Run this cell without changes\n",
    "\n",
    "higher_price = []\n",
    "lower_price = []\n",
    "for row in full_dataset:\n",
    "    if row[\"price\"] == \"$\":\n",
    "        lower_price.append(row[\"rating\"])\n",
    "    else:\n",
    "        higher_price.append(row[\"rating\"])\n",
    "        \n",
    "fig, ax = plt.subplots()\n",
    "\n",
    "ax.hist([higher_price, lower_price], label=[\"higher price\", \"lower price\"], density=True)\n",
    "\n",
    "ax.legend();"
   ]
  },
  {
   "cell_type": "markdown",
   "metadata": {},
   "source": [
    "Is a higher price associated with a higher rating? (No need for any additional math/statistics, just interpret what you see in the plot.)"
   ]
  },
  {
   "cell_type": "code",
   "execution_count": 50,
   "metadata": {},
   "outputs": [
    {
     "data": {
      "text/plain": [
       "'\\nYes it is.\\nThe magnitude of lower price is high at low rating value. As you move to the right on the graph the magnitude of \\nhigher price increases and passes that of lower price.\\n'"
      ]
     },
     "execution_count": 50,
     "metadata": {},
     "output_type": "execute_result"
    }
   ],
   "source": [
    "# Replace None with appropriate text\n",
    "\"\"\"\n",
    "Yes it is.\n",
    "The magnitude of lower price is high at low rating value. As you move to the right on the graph the magnitude of \n",
    "higher price increases and passes that of lower price.\n",
    "\"\"\""
   ]
  },
  {
   "cell_type": "markdown",
   "metadata": {},
   "source": [
    "Finally, let's look at ratings vs. review counts:"
   ]
  },
  {
   "cell_type": "code",
   "execution_count": 17,
   "metadata": {},
   "outputs": [
    {
     "data": {
      "image/png": "[encoded data removed]",
      "text/plain": [
       "<Figure size 1152x360 with 1 Axes>"
      ]
     },
     "metadata": {
      "needs_background": "light"
     },
     "output_type": "display_data"
    }
   ],
   "source": [
    "# Run this cell without changes\n",
    "fig, ax = plt.subplots(figsize=(16,5))\n",
    "\n",
    "ax.scatter(all_review_counts, all_ratings, alpha=0.2)\n",
    "ax.set_xlabel(\"Number of Reviews\")\n",
    "ax.set_ylabel(\"Rating\")\n",
    "# \"zoom in\" to a subset of review counts\n",
    "ax.set_xlim(left=0, right=1000);"
   ]
  },
  {
   "cell_type": "markdown",
   "metadata": {},
   "source": [
    "Is a higher number of reviews associated with a higher rating?"
   ]
  },
  {
   "cell_type": "code",
   "execution_count": 51,
   "metadata": {},
   "outputs": [
    {
     "data": {
      "text/plain": [
       "'\\nMost people give a rating of 4.0 when giving reviews. \\nIf a customer has not been pleased with a business, he/she is more inclined to not giving any review. This is \\nshown by the distrbution of plots at the 2.5 level.\\n'"
      ]
     },
     "execution_count": 51,
     "metadata": {},
     "output_type": "execute_result"
    }
   ],
   "source": [
    "# Replace None with appropriate text\n",
    "\"\"\"\n",
    "Most people give a rating of 4.0 when giving reviews. \n",
    "If a customer has not been pleased with a business, he/she is more inclined to not giving any review. This is \n",
    "shown by the distrbution of plots at the 2.5 level.\n",
    "\"\"\""
   ]
  },
  {
   "cell_type": "markdown",
   "metadata": {},
   "source": [
    "## 4. Create a Folium Map\n",
    "\n",
    "Make a map using Folium of the businesses you retrieved. Be sure to also add popups to the markers giving some basic information such as name, rating and price.\n",
    "\n",
    "You can center the map around the latitude and longitude of the first item in `full_dataset`."
   ]
  },
  {
   "cell_type": "code",
   "execution_count": 47,
   "metadata": {},
   "outputs": [
    {
     "data": {
      "text/html": [
       "<div style=\"width:100%;\"><div style=\"position:relative;width:100%;height:0;padding-bottom:60%;\"><span style=\"color:#565656\">Make this Notebook Trusted to load map: File -> Trust Notebook</span><iframe src=\"about:blank\" style=\"position:absolute;width:100%;height:100%;left:0;top:0;border:none !important;\" data-html=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 onload=\"this.contentDocument.open();this.contentDocument.write(atob(this.getAttribute('data-html')));this.contentDocument.close();\" allowfullscreen webkitallowfullscreen mozallowfullscreen></iframe></div></div>"
      ],
      "text/plain": [
       "<folium.folium.Map at 0x7fb2026a2f70>"
      ]
     },
     "execution_count": 47,
     "metadata": {},
     "output_type": "execute_result"
    }
   ],
   "source": [
    "# Replace None with appropriate code\n",
    "\n",
    "# Import the library\n",
    "import folium\n",
    "\n",
    "# Set up center latitude and longitude\n",
    "center_lat = response_json['region']['center']['latitude']\n",
    "center_long = response_json['region']['center']['longitude']\n",
    "\n",
    "# Initialize map with center lat and long\n",
    "yelp_map = folium.Map([center_lat, center_long], zoom_start=13)\n",
    "\n",
    "# Adjust this limit to see more or fewer businesses\n",
    "limit=100\n",
    "\n",
    "for business in full_dataset[:limit]:\n",
    "    # Extract information about business\n",
    "    lat = business['latitude']\n",
    "    long = business['longitude']\n",
    "    name = business['name']\n",
    "    rating = business['rating']\n",
    "    price = business['price']\n",
    "    details = \"{}\\n Price: {} Rating:{}\".format(name,price,rating)\n",
    "    \n",
    "    # Create popup with relevant details\n",
    "    popup = folium.Popup(details, parse_html=True)\n",
    "    \n",
    "    # Create marker with relevant lat/long and popup\n",
    "    \n",
    "    marker = folium.Marker(location=[lat, long], popup=popup)\n",
    "    \n",
    "    marker.add_to(yelp_map)\n",
    "    \n",
    "yelp_map"
   ]
  },
  {
   "cell_type": "markdown",
   "metadata": {},
   "source": [
    "## Summary\n",
    "\n",
    "Nice work! In this lab, you've made multiple API calls to Yelp in order to paginate through a results set, performing some basic exploratory analysis and then creating a nice interactive map to display the results using Folium! Well done!"
   ]
  }
 ],
 "metadata": {
  "kernelspec": {
   "display_name": "Python 3",
   "language": "python",
   "name": "python3"
  },
  "language_info": {
   "codemirror_mode": {
    "name": "ipython",
    "version": 3
   },
   "file_extension": ".py",
   "mimetype": "text/x-python",
   "name": "python",
   "nbconvert_exporter": "python",
   "pygments_lexer": "ipython3",
   "version": "3.8.5"
  },
  "toc": {
   "base_numbering": 1,
   "nav_menu": {},
   "number_sections": true,
   "sideBar": true,
   "skip_h1_title": false,
   "title_cell": "Table of Contents",
   "title_sidebar": "Contents",
   "toc_cell": false,
   "toc_position": {},
   "toc_section_display": true,
   "toc_window_display": false
  }
 },
 "nbformat": 4,
 "nbformat_minor": 2
}
