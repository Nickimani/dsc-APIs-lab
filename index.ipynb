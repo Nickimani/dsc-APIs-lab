{
 "cells": [
  {
   "cell_type": "markdown",
   "metadata": {},
   "source": [
    "# APIs - Cumulative Lab\n",
    "\n",
    "\n",
    "## Introduction \n",
    "\n",
    "We've seen how the Yelp API works and how to create basic visualizations using Folium. It's time to put those skills to work in order to create a working map! Taking things a step further, you'll also independently explore how to perform pagination in order to retrieve a full results set from the Yelp API.\n",
    "\n",
    "## Objectives\n",
    "\n",
    "You will be able to: \n",
    "\n",
    "* Practice using functions to organize your code\n",
    "* Use pagination to retrieve all results from an API query\n",
    "* Practice parsing data returned from an API query\n",
    "* Practice interpreting visualizations of a dataset\n",
    "* Create maps using Folium"
   ]
  },
  {
   "cell_type": "markdown",
   "metadata": {},
   "source": [
    "## Your Task: Query Yelp for All Businesses in a Category and Analyze the Results\n",
    "\n",
    "![restaurant counter with pizza](images/restaurant_counter.jpg)\n",
    "\n",
    "Photo by <a href=\"https://unsplash.com/@jordanmadrid?utm_source=unsplash&utm_medium=referral&utm_content=creditCopyText\">Jordan Madrid</a> on <a href=\"/s/photos/pizza-restaurant?utm_source=unsplash&utm_medium=referral&utm_content=creditCopyText\">Unsplash</a>"
   ]
  },
  {
   "cell_type": "markdown",
   "metadata": {},
   "source": [
    "### Overview\n",
    "\n",
    "You've now worked with some API calls, but we have yet to see how to retrieve a more complete dataset in a programmatic manner. In this lab, you will write a query of businesses on Yelp, then use *pagination* to retrieve all possible results for that query. Then you will create a summary of your findings, including a Folium map of the geographic locations of those businesses.\n",
    "\n",
    "### Technical Details\n",
    "\n",
    "Returning to the Yelp API, the [documentation](https://www.yelp.com/developers/documentation/v3/business_search) also provides us details regarding the **API limits**. These often include details about the number of requests a user is allowed to make within a specified time limit and the maximum number of results to be returned. In this case, we are told that any request has a **maximum of 50 results per request** and defaults to 20. Furthermore, any search will be limited to a **total of 1000 results**. To retrieve all 1000 of these results, we would have to page through the results piece by piece, retrieving 50 at a time. Processes such as these are often referred to as pagination.\n",
    "\n",
    "Also, be mindful of the **API** ***rate*** **limits**. You can only make **5000 requests per day** and are also can make requests too fast. Start prototyping small before running a loop that could be faulty. You can also use `time.sleep(n)` to add delays. For more details see https://www.yelp.com/developers/documentation/v3/rate_limiting.\n",
    "\n",
    "In this lab, you will define a search and then paginate over the results to retrieve all of the results. You'll then parse these responses as a list of dictionaries (for further exploration) and create a map using Folium to visualize the results geographically.\n",
    "\n",
    "### Requirements\n",
    "\n",
    "#### 1. Make the Initial Request\n",
    "\n",
    "Start by filling in your API key to make the initial request to the business search API. Investigate the structure of the response you get back and start figuring out how you will extract the relevant information.\n",
    "\n",
    "#### 2. Add Pagination\n",
    "\n",
    "Using loops and functions, collect the maximum number of results for your query from the API.\n",
    "\n",
    "#### 3. Perform Exploratory Analysis\n",
    "\n",
    "Interpret visualizations related to the price range, average rating, and number of reviews for all query results.\n",
    "\n",
    "#### 4. Create a Folium Map\n",
    "\n",
    "Using latitude and longitude data, plot the query results on an interactive map."
   ]
  },
  {
   "cell_type": "markdown",
   "metadata": {},
   "source": [
    "## 1. Make the Initial Request\n",
    "\n",
    "### Querying\n",
    "\n",
    "Start by making an initial request to the Yelp API. Your search must include at least 2 parameters: **term** and **location**. For example, you might search for pizza restaurants in NYC. The term and location is up to you but make the request below.\n",
    "\n",
    "Use the `requests` library ([documentation here](https://requests.readthedocs.io/en/master/user/quickstart/#make-a-request)).\n",
    "\n",
    "You'll also need an API key from Yelp. If you haven't done this already, go to the Yelp [Manage App page](https://www.yelp.com/developers/v3/manage_app) and create a new app (after making an account if you haven't already)."
   ]
  },
  {
   "cell_type": "code",
   "execution_count": 1,
   "metadata": {},
   "outputs": [
    {
     "data": {
      "text/plain": [
       "<Response [200]>"
      ]
     },
     "execution_count": 1,
     "metadata": {},
     "output_type": "execute_result"
    }
   ],
   "source": [
    "# Replace None with appropriate code\n",
    "\n",
    "# Import the requests library\n",
    "import requests\n",
    "import json\n",
    "\n",
    "# load the api key file\n",
    "with open('/home/nick/Documents/Flatiron/.secret/yelp_api.json') as f:\n",
    "    key = json.load(f)\n",
    "    \n",
    "# Get this from the \"Manage App\" page. Make sure you set them\n",
    "# back to None before pushing this to GitHub, since otherwise\n",
    "# your credentials will be compromised\n",
    "api_key = key['api_key']\n",
    "\n",
    "# These can be whatever you want! But the solution uses \"pizza\"\n",
    "# and \"New York NY\" if you want to compare your work directly\n",
    "term = 'pizza'\n",
    "location = 'New York NY'\n",
    "\n",
    "# Set up params for request\n",
    "url = \"https://api.yelp.com/v3/businesses/search\"\n",
    "headers = {\n",
    "    \"Authorization\": \"Bearer {}\".format(api_key)\n",
    "}\n",
    "url_params = {\n",
    "    \"term\": term.replace(\" \", \"+\"),\n",
    "    \"location\": location.replace(\" \", \"+\")\n",
    "}\n",
    "\n",
    "# Make the request using requests.get, passing in\n",
    "# url, headers=headers, and params=url_params\n",
    "response = requests.get(url, headers=headers, params=url_params)\n",
    "\n",
    "# Confirm we got a 200 response\n",
    "response"
   ]
  },
  {
   "cell_type": "code",
   "execution_count": 2,
   "metadata": {},
   "outputs": [
    {
     "data": {
      "text/plain": [
       "dict_keys(['businesses', 'total', 'region'])"
      ]
     },
     "execution_count": 2,
     "metadata": {},
     "output_type": "execute_result"
    }
   ],
   "source": [
    "# Run this cell without changes\n",
    "\n",
    "# Get the response body in JSON format\n",
    "response_json = response.json()\n",
    "# View the keys\n",
    "response_json.keys()"
   ]
  },
  {
   "cell_type": "markdown",
   "metadata": {},
   "source": [
    "### Extracting Data\n",
    "\n",
    "Now, retrieve the value associated with the `'businesses'` key, and inspect its contents."
   ]
  },
  {
   "cell_type": "code",
   "execution_count": 3,
   "metadata": {},
   "outputs": [
    {
     "data": {
      "text/plain": [
       "[{'id': 'zj8Lq1T8KIC5zwFief15jg',\n",
       "  'alias': 'prince-street-pizza-new-york-2',\n",
       "  'name': 'Prince Street Pizza',\n",
       "  'image_url': 'https://s3-media3.fl.yelpcdn.com/bphoto/ZAukOyv530w4KjOHC5YY1w/o.jpg',\n",
       "  'is_closed': False,\n",
       "  'url': 'https://www.yelp.com/biz/prince-street-pizza-new-york-2?adjust_creative=mMwcd7obZZpLGZ7YirPCHg&utm_campaign=yelp_api_v3&utm_medium=api_v3_business_search&utm_source=mMwcd7obZZpLGZ7YirPCHg',\n",
       "  'review_count': 4311,\n",
       "  'categories': [{'alias': 'pizza', 'title': 'Pizza'},\n",
       "   {'alias': 'italian', 'title': 'Italian'}],\n",
       "  'rating': 4.5,\n",
       "  'coordinates': {'latitude': 40.72308755605564,\n",
       "   'longitude': -73.99453001177575},\n",
       "  'transactions': ['pickup', 'delivery'],\n",
       "  'price': '$',\n",
       "  'location': {'address1': '27 Prince St',\n",
       "   'address2': None,\n",
       "   'address3': '',\n",
       "   'city': 'New York',\n",
       "   'zip_code': '10012',\n",
       "   'country': 'US',\n",
       "   'state': 'NY',\n",
       "   'display_address': ['27 Prince St', 'New York, NY 10012']},\n",
       "  'phone': '+12129664100',\n",
       "  'display_phone': '(212) 966-4100',\n",
       "  'distance': 1961.8771417367063},\n",
       " {'id': 'ysqgdbSrezXgVwER2kQWKA',\n",
       "  'alias': 'julianas-brooklyn-3',\n",
       "  'name': \"Juliana's\",\n",
       "  'image_url': 'https://s3-media2.fl.yelpcdn.com/bphoto/clscwgOF9_Ecq-Rwsq7jyQ/o.jpg',\n",
       "  'is_closed': False,\n",
       "  'url': 'https://www.yelp.com/biz/julianas-brooklyn-3?adjust_creative=mMwcd7obZZpLGZ7YirPCHg&utm_campaign=yelp_api_v3&utm_medium=api_v3_business_search&utm_source=mMwcd7obZZpLGZ7YirPCHg',\n",
       "  'review_count': 2433,\n",
       "  'categories': [{'alias': 'pizza', 'title': 'Pizza'}],\n",
       "  'rating': 4.5,\n",
       "  'coordinates': {'latitude': 40.70274718768062,\n",
       "   'longitude': -73.99343490196397},\n",
       "  'transactions': ['delivery'],\n",
       "  'price': '$$',\n",
       "  'location': {'address1': '19 Old Fulton St',\n",
       "   'address2': '',\n",
       "   'address3': '',\n",
       "   'city': 'Brooklyn',\n",
       "   'zip_code': '11201',\n",
       "   'country': 'US',\n",
       "   'state': 'NY',\n",
       "   'display_address': ['19 Old Fulton St', 'Brooklyn, NY 11201']},\n",
       "  'phone': '+17185966700',\n",
       "  'display_phone': '(718) 596-6700',\n",
       "  'distance': 308.56984360837544}]"
      ]
     },
     "execution_count": 3,
     "metadata": {},
     "output_type": "execute_result"
    }
   ],
   "source": [
    "# Replace None with appropriate code\n",
    "\n",
    "# Retrieve the value from response_json\n",
    "businesses = response_json['businesses']\n",
    "\n",
    "# View the first 2 records\n",
    "businesses[:2]"
   ]
  },
  {
   "cell_type": "markdown",
   "metadata": {},
   "source": [
    "### Preparing Data\n",
    "\n",
    "Write a function `prepare_data` that takes in a list of dictionaries like `businesses` and returns a copy that has been prepared for analysis:\n",
    "\n",
    "1. The `coordinates` key-value pair has been converted into two separate key-value pairs, `latitude` and `longitude`\n",
    "2. All other key-value pairs except for `name`, `review_count`, `rating`, and `price` have been dropped\n",
    "3. All dictionaries missing one of the relevant keys or containing null values have been dropped\n",
    "\n",
    "In other words, the final keys for each dictionary should be `name`, `review_count`, `rating`, `price`, `latitude`, and `longitude`.\n",
    "\n",
    "Complete the function in the cell below:"
   ]
  },
  {
   "cell_type": "code",
   "execution_count": 4,
   "metadata": {},
   "outputs": [
    {
     "data": {
      "text/plain": [
       "[{'latitude': 40.72308755605564,\n",
       "  'longitude': -73.99453001177575,\n",
       "  'name': 'Prince Street Pizza',\n",
       "  'review_count': 4311,\n",
       "  'rating': 4.5,\n",
       "  'price': '$'},\n",
       " {'latitude': 40.70274718768062,\n",
       "  'longitude': -73.99343490196397,\n",
       "  'name': \"Juliana's\",\n",
       "  'review_count': 2433,\n",
       "  'rating': 4.5,\n",
       "  'price': '$$'},\n",
       " {'latitude': 40.722766,\n",
       "  'longitude': -73.996233,\n",
       "  'name': 'Rubirosa',\n",
       "  'review_count': 2631,\n",
       "  'rating': 4.5,\n",
       "  'price': '$$'},\n",
       " {'latitude': 40.7215934960083,\n",
       "  'longitude': -73.9955956044561,\n",
       "  'name': \"Lombardi's Pizza\",\n",
       "  'review_count': 6305,\n",
       "  'rating': 4.0,\n",
       "  'price': '$$'},\n",
       " {'latitude': 40.6818,\n",
       "  'longitude': -74.00024,\n",
       "  'name': 'Lucali',\n",
       "  'review_count': 1788,\n",
       "  'rating': 4.0,\n",
       "  'price': '$$'}]"
      ]
     },
     "execution_count": 4,
     "metadata": {},
     "output_type": "execute_result"
    }
   ],
   "source": [
    "# Replace None with appropriate code\n",
    "\n",
    "def prepare_data(data_list):\n",
    "    \"\"\"\n",
    "    This function takes in a list of dictionaries and prepares it\n",
    "    for analysis\n",
    "    \"\"\"\n",
    "    \n",
    "    # Make a new list to hold results\n",
    "    results = []\n",
    "    \n",
    "    for business_data in data_list:\n",
    "    \n",
    "        # Make a new dictionary to hold prepared data for this business\n",
    "        prepared_data = {}\n",
    "        required = ['name', 'review_count', 'rating', 'price']\n",
    "        \n",
    "        # Extract name, review_count, rating, and price key-value pairs\n",
    "        # from business_data and add to prepared_data\n",
    "        # If a key is not present in business_data, add it to prepared_data\n",
    "        # with an associated value of None\n",
    "        for key, value in business_data.items():\n",
    "            if key == 'name':\n",
    "                prepared_data[key] = value\n",
    "            elif key == 'review_count':\n",
    "                prepared_data[key] = value\n",
    "            elif key == 'rating':\n",
    "                prepared_data[key] = value\n",
    "            elif key == 'price':\n",
    "                prepared_data[key] = value\n",
    "        # If a key is not present in business_data, add it to prepared_data\n",
    "        # with an associated value of None\n",
    "            elif 'name' not in business_data.keys():\n",
    "                prepared_data['name'] = None\n",
    "            elif 'review_count' not in business_data.keys():\n",
    "                prepared_data['review_count'] = None\n",
    "            elif 'rating' not in business_data.keys():\n",
    "                prepared_data['rating'] = None\n",
    "            elif 'price' not in business_data.keys():\n",
    "                prepared_data['price'] = None\n",
    "    \n",
    "        # Parse and add latitude and longitude columns\n",
    "            prepared_data['latitude'] = business_data['coordinates']['latitude']\n",
    "            prepared_data['longitude'] =  business_data['coordinates']['longitude']\n",
    "        \n",
    "        # Add to list if all values are present\n",
    "        if all(prepared_data.values()):\n",
    "            results.append(prepared_data)\n",
    "    \n",
    "    return results\n",
    "    \n",
    "# Test out function\n",
    "prepared_businesses = prepare_data(businesses)\n",
    "prepared_businesses[:5]"
   ]
  },
  {
   "cell_type": "markdown",
   "metadata": {},
   "source": [
    "Check that your function created the correct keys:"
   ]
  },
  {
   "cell_type": "code",
   "execution_count": 5,
   "metadata": {},
   "outputs": [],
   "source": [
    "# Run this cell without changes\n",
    "\n",
    "assert sorted(list(prepared_businesses[0].keys())) == ['latitude', 'longitude', 'name', 'price', 'rating', 'review_count']"
   ]
  },
  {
   "cell_type": "markdown",
   "metadata": {},
   "source": [
    "The following code will differ depending on your query, but we expect there to be 20 businesses in the original list, and potentially fewer in the prepared list (if any of them were missing data):"
   ]
  },
  {
   "cell_type": "code",
   "execution_count": 6,
   "metadata": {},
   "outputs": [
    {
     "name": "stdout",
     "output_type": "stream",
     "text": [
      "Original: 20\n",
      "Prepared: 20\n"
     ]
    }
   ],
   "source": [
    "# Run this cell without changes\n",
    "print(\"Original:\", len(businesses))\n",
    "print(\"Prepared:\", len(prepared_businesses))"
   ]
  },
  {
   "cell_type": "markdown",
   "metadata": {},
   "source": [
    "Great! We will reuse this function once we have retrieved the full dataset."
   ]
  },
  {
   "cell_type": "markdown",
   "metadata": {},
   "source": [
    "## 2. Add Pagination\n",
    "\n",
    "Now that you are able to extract information from one page of the response, let's figure out how to request as many pages as possible.\n",
    "\n",
    "### Determining the Total\n",
    "\n",
    "Depending on the number of total results for your query, you will either retrieve all of the results, or just the first 1000 (if there are more than 1000 total).\n",
    "\n",
    "We can find the total number of results using the `\"total\"` key:"
   ]
  },
  {
   "cell_type": "code",
   "execution_count": 7,
   "metadata": {},
   "outputs": [
    {
     "data": {
      "text/plain": [
       "12000"
      ]
     },
     "execution_count": 7,
     "metadata": {},
     "output_type": "execute_result"
    }
   ],
   "source": [
    "# Run this cell without changes\n",
    "response_json[\"total\"]"
   ]
  },
  {
   "cell_type": "markdown",
   "metadata": {},
   "source": [
    "(This is specific to the implementation of the Yelp API. Some APIs will just tell you that there are more pages, or will tell you the number of pages total, rather than the total number of results. If you're not sure, always check the documentation.)\n",
    "\n",
    "In the cell below, assign the variable `total` to either the value shown above (if it is less than 1000), or 1000."
   ]
  },
  {
   "cell_type": "code",
   "execution_count": 8,
   "metadata": {},
   "outputs": [],
   "source": [
    "# Replace None with appropriate code\n",
    "total = 1000"
   ]
  },
  {
   "cell_type": "markdown",
   "metadata": {},
   "source": [
    "### Calculating the Offsets\n",
    "\n",
    "The documentation states in the parameters section:\n",
    "\n",
    "> **Name**: `limit`, **Type:** int, **Description:** Optional. Number of business results to return. By default, it will return 20. Maximum is 50.\n",
    "\n",
    "> **Name**: `offset`, **Type:** int, **Description:** Optional. Offset the list of returned business results by this amount.\n",
    "\n",
    "So, to get the most results with the fewest API calls we want to set a limit of 50 every time. If, say, we wanted to get 210 total results, that would mean:\n",
    "\n",
    "1. Offset of `0` (first 50 records)\n",
    "2. Offset of `50` (second 50 records)\n",
    "3. Offset of `100` (third 50 records)\n",
    "4. Offset of `150` (fourth 50 records)\n",
    "5. Offset of `200` (final 10 records)\n",
    "\n",
    "In the cell below, create a function `get_offsets` that takes in a total and returns a list of offsets for that total. You can assume that there is a limit of 50 every time.\n",
    "\n",
    "*Hint: you can use `range` ([documentation here](https://docs.python.org/3.3/library/stdtypes.html?highlight=range#range)) to do this in one line of code. Just make the returned result is a list.*"
   ]
  },
  {
   "cell_type": "code",
   "execution_count": 9,
   "metadata": {},
   "outputs": [],
   "source": [
    "# Replace None with appropriate code\n",
    "def get_offsets(total):\n",
    "    \"\"\"\n",
    "    Get a list of offsets needed to get all pages\n",
    "    of data up until the total\n",
    "    \"\"\" \n",
    "    # creating a list of offset values to loop through\n",
    "    offset = list(range(0, total, 50))\n",
    "    \n",
    "    return offset    "
   ]
  },
  {
   "cell_type": "markdown",
   "metadata": {},
   "source": [
    "Check that your function works below:"
   ]
  },
  {
   "cell_type": "code",
   "execution_count": 10,
   "metadata": {},
   "outputs": [],
   "source": [
    "# Run this cell without changes\n",
    "\n",
    "assert get_offsets(200) == [0, 50, 100, 150]\n",
    "assert get_offsets(210) == [0, 50, 100, 150, 200]"
   ]
  },
  {
   "cell_type": "markdown",
   "metadata": {},
   "source": [
    "### Putting It All Together\n",
    "\n",
    "Recall that the following variable has already been declared for you:"
   ]
  },
  {
   "cell_type": "code",
   "execution_count": 11,
   "metadata": {},
   "outputs": [
    {
     "data": {
      "text/plain": [
       "{'term': 'pizza', 'location': 'New+York+NY'}"
      ]
     },
     "execution_count": 11,
     "metadata": {},
     "output_type": "execute_result"
    }
   ],
   "source": [
    "# Run this cell without changes\n",
    "url_params"
   ]
  },
  {
   "cell_type": "markdown",
   "metadata": {},
   "source": [
    "We'll go ahead and also specify that the limit should be 50 every time:"
   ]
  },
  {
   "cell_type": "code",
   "execution_count": 12,
   "metadata": {},
   "outputs": [],
   "source": [
    "# Run this cell without changes\n",
    "url_params[\"limit\"] = 50"
   ]
  },
  {
   "cell_type": "markdown",
   "metadata": {},
   "source": [
    "In order to modify the offset, you'll need to add it to `url_params` with the key `\"offset\"` and whatever value is needed.\n",
    "\n",
    "In the cell below, write code that:\n",
    "\n",
    "* Creates an empty list for the full prepared dataset\n",
    "* Loops over all of the offsets from `get_offsets` and makes an API call each time with the specified offset\n",
    "* Calls `prepare_data` to get a cleaned version of the result of each API call\n",
    "* Extends the full prepared dataset list with each query's prepared dataset"
   ]
  },
  {
   "cell_type": "code",
   "execution_count": 13,
   "metadata": {},
   "outputs": [
    {
     "data": {
      "text/plain": [
       "[0, 50, 100, 150]"
      ]
     },
     "execution_count": 13,
     "metadata": {},
     "output_type": "execute_result"
    }
   ],
   "source": [
    "get_offsets(180)"
   ]
  },
  {
   "cell_type": "code",
   "execution_count": 24,
   "metadata": {},
   "outputs": [
    {
     "data": {
      "text/plain": [
       "794"
      ]
     },
     "execution_count": 24,
     "metadata": {},
     "output_type": "execute_result"
    }
   ],
   "source": [
    "# Replace None with appropriate code\n",
    "import time\n",
    "\n",
    "# Create an empty list for the full prepared dataset\n",
    "full_dataset = []\n",
    "\n",
    "for offset in get_offsets(total):\n",
    "    # Add or update the \"offset\" key-value pair in url_params\n",
    "    url_params['offset'] = offset\n",
    "    \n",
    "    # Make the query and get the response\n",
    "    response = requests.get(url, headers=headers, params=url_params)\n",
    "    time.sleep(1)\n",
    "    \n",
    "    # Get the response body in JSON format\n",
    "    response_json = response.json()\n",
    "    \n",
    "    # Get the list of businesses from the response_json\n",
    "    businesses = response_json['businesses']\n",
    "    \n",
    "    # Call the prepare_data function to get a list of processed data\n",
    "    prepared_businesses = prepare_data(businesses)\n",
    "    \n",
    "    # Extend full_dataset with this list (don't append, or you'll get\n",
    "    # a list of lists instead of a flat list)\n",
    "    full_dataset.extend(prepared_businesses)\n",
    "\n",
    "# Check the length of the full dataset. It will be up to `total`,\n",
    "# potentially less if there were missing values\n",
    "len(full_dataset)"
   ]
  },
  {
   "cell_type": "markdown",
   "metadata": {},
   "source": [
    "This code may take up to a few minutes to run.\n",
    "\n",
    "If you get an error trying to get the response body in JSON format, try adding `time.sleep(1)` right after the `requests.get` line, so your code will sleep for 1 second between each API call."
   ]
  },
  {
   "cell_type": "markdown",
   "metadata": {},
   "source": [
    "## 3. Perform Exploratory Analysis\n",
    "\n",
    "Take the businesses from the previous question and do an initial exploratory analysis. We have provided some plots for you to interpret:"
   ]
  },
  {
   "cell_type": "code",
   "execution_count": 15,
   "metadata": {},
   "outputs": [
    {
     "data": {
      "image/png": "[encoded data removed]",
      "text/plain": [
       "<Figure size 1152x360 with 3 Axes>"
      ]
     },
     "metadata": {
      "needs_background": "light"
     },
     "output_type": "display_data"
    }
   ],
   "source": [
    "# Run this cell without changes\n",
    "from collections import Counter\n",
    "import matplotlib.pyplot as plt\n",
    "%matplotlib inline\n",
    "\n",
    "fig, (ax1, ax2, ax3) = plt.subplots(ncols=3, figsize=(16, 5))\n",
    "\n",
    "# Plot distribution of number of reviews\n",
    "all_review_counts = [x[\"review_count\"] for x in full_dataset]\n",
    "ax1.hist(all_review_counts)\n",
    "ax1.set_title(\"Review Count Distribution\")\n",
    "ax1.set_xlabel(\"Number of Reviews\")\n",
    "ax1.set_ylabel(\"Number of Businesses\")\n",
    "\n",
    "# Plot rating distribution\n",
    "all_ratings = [x[\"rating\"] for x in full_dataset]\n",
    "rating_counter = Counter(all_ratings)\n",
    "rating_keys = sorted(rating_counter.keys())\n",
    "ax2.bar(rating_keys, [rating_counter[key] for key in rating_keys])\n",
    "ax2.set_title(\"Rating Distribution\")\n",
    "ax2.set_xlabel(\"Rating\")\n",
    "ax2.set_ylabel(\"Number of Businesses\")\n",
    "\n",
    "# Plot price distribution\n",
    "all_prices = [x[\"price\"].replace(\"$\", r\"\\$\") for x in full_dataset]\n",
    "price_counter = Counter(all_prices)\n",
    "price_keys = sorted(price_counter.keys())\n",
    "ax3.bar(price_keys, [price_counter[key] for key in price_keys])\n",
    "ax3.set_title(\"Price Distribution\")\n",
    "ax3.set_xlabel(\"Price Category\")\n",
    "ax3.set_ylabel(\"Number of Businesses\");"
   ]
  },
  {
   "cell_type": "markdown",
   "metadata": {},
   "source": [
    "Describe the distributions displayed above and interpret them in the context of your query. (Your answer may differ from the solution branch depending on your query.)"
   ]
  },
  {
   "cell_type": "code",
   "execution_count": 16,
   "metadata": {},
   "outputs": [
    {
     "data": {
      "text/plain": [
       "'\\nMost businesses rarely get reviews.\\nHowever generally, businesses get a rating of 4.0 from their customers whenever they make a review.\\nThe number of businesses that sell pizza at a high price are low, with most businesses selling them at $ and $$\\n'"
      ]
     },
     "execution_count": 16,
     "metadata": {},
     "output_type": "execute_result"
    }
   ],
   "source": [
    "# Replace None with appropriate text\n",
    "\"\"\"\n",
    "Most businesses rarely get reviews.\n",
    "However generally, businesses get a rating of 4.0 from their customers whenever they make a review.\n",
    "The number of businesses that sell pizza at a high price are low, with most businesses selling them at $ and $$\n",
    "\"\"\""
   ]
  },
  {
   "cell_type": "markdown",
   "metadata": {},
   "source": [
    "In the cell below, we also plot the rating distributions by price. In this setup, a price of one dollar sign is \"lower price\" and everything else is \"higher price\"."
   ]
  },
  {
   "cell_type": "code",
   "execution_count": 17,
   "metadata": {},
   "outputs": [
    {
     "data": {
      "image/png": "[encoded data removed]",
      "text/plain": [
       "<Figure size 432x288 with 1 Axes>"
      ]
     },
     "metadata": {
      "needs_background": "light"
     },
     "output_type": "display_data"
    }
   ],
   "source": [
    "# Run this cell without changes\n",
    "\n",
    "higher_price = []\n",
    "lower_price = []\n",
    "for row in full_dataset:\n",
    "    if row[\"price\"] == \"$\":\n",
    "        lower_price.append(row[\"rating\"])\n",
    "    else:\n",
    "        higher_price.append(row[\"rating\"])\n",
    "        \n",
    "fig, ax = plt.subplots()\n",
    "\n",
    "ax.hist([higher_price, lower_price], label=[\"higher price\", \"lower price\"], density=True)\n",
    "\n",
    "ax.legend();"
   ]
  },
  {
   "cell_type": "markdown",
   "metadata": {},
   "source": [
    "Is a higher price associated with a higher rating? (No need for any additional math/statistics, just interpret what you see in the plot.)"
   ]
  },
  {
   "cell_type": "code",
   "execution_count": 18,
   "metadata": {},
   "outputs": [
    {
     "data": {
      "text/plain": [
       "'\\nYes it is.\\nThe magnitude of lower price is high at low rating value. As you move to the right on the graph the magnitude of \\nhigher price increases and passes that of lower price.\\n'"
      ]
     },
     "execution_count": 18,
     "metadata": {},
     "output_type": "execute_result"
    }
   ],
   "source": [
    "# Replace None with appropriate text\n",
    "\"\"\"\n",
    "Yes it is.\n",
    "The magnitude of lower price is high at low rating value. As you move to the right on the graph the magnitude of \n",
    "higher price increases and passes that of lower price.\n",
    "\"\"\""
   ]
  },
  {
   "cell_type": "markdown",
   "metadata": {},
   "source": [
    "Finally, let's look at ratings vs. review counts:"
   ]
  },
  {
   "cell_type": "code",
   "execution_count": 19,
   "metadata": {},
   "outputs": [
    {
     "data": {
      "image/png": "[encoded data removed]",
      "text/plain": [
       "<Figure size 1152x360 with 1 Axes>"
      ]
     },
     "metadata": {
      "needs_background": "light"
     },
     "output_type": "display_data"
    }
   ],
   "source": [
    "# Run this cell without changes\n",
    "fig, ax = plt.subplots(figsize=(16,5))\n",
    "\n",
    "ax.scatter(all_review_counts, all_ratings, alpha=0.2)\n",
    "ax.set_xlabel(\"Number of Reviews\")\n",
    "ax.set_ylabel(\"Rating\")\n",
    "# \"zoom in\" to a subset of review counts\n",
    "ax.set_xlim(left=0, right=1000);"
   ]
  },
  {
   "cell_type": "markdown",
   "metadata": {},
   "source": [
    "Is a higher number of reviews associated with a higher rating?"
   ]
  },
  {
   "cell_type": "code",
   "execution_count": 20,
   "metadata": {},
   "outputs": [
    {
     "data": {
      "text/plain": [
       "'\\nMost people give a rating of 4.0 when giving reviews. \\nIf a customer has not been pleased with a business, he/she is more inclined to not giving any review. This is \\nshown by the distrbution of plots at the 2.5 level.\\n'"
      ]
     },
     "execution_count": 20,
     "metadata": {},
     "output_type": "execute_result"
    }
   ],
   "source": [
    "# Replace None with appropriate text\n",
    "\"\"\"\n",
    "Most people give a rating of 4.0 when giving reviews. \n",
    "If a customer has not been pleased with a business, he/she is more inclined to not giving any review. This is \n",
    "shown by the distrbution of plots at the 2.5 level.\n",
    "\"\"\""
   ]
  },
  {
   "cell_type": "markdown",
   "metadata": {},
   "source": [
    "## 4. Create a Folium Map\n",
    "\n",
    "Make a map using Folium of the businesses you retrieved. Be sure to also add popups to the markers giving some basic information such as name, rating and price.\n",
    "\n",
    "You can center the map around the latitude and longitude of the first item in `full_dataset`."
   ]
  },
  {
   "cell_type": "code",
   "execution_count": 22,
   "metadata": {},
   "outputs": [
    {
     "data": {
      "text/html": [
       "<div style=\"width:100%;\"><div style=\"position:relative;width:100%;height:0;padding-bottom:60%;\"><span style=\"color:#565656\">Make this Notebook Trusted to load map: File -> Trust Notebook</span><iframe src=\"about:blank\" style=\"position:absolute;width:100%;height:100%;left:0;top:0;border:none !important;\" data-html=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 onload=\"this.contentDocument.open();this.contentDocument.write(atob(this.getAttribute('data-html')));this.contentDocument.close();\" allowfullscreen webkitallowfullscreen mozallowfullscreen></iframe></div></div>"
      ],
      "text/plain": [
       "<folium.folium.Map at 0x7f685620c910>"
      ]
     },
     "execution_count": 22,
     "metadata": {},
     "output_type": "execute_result"
    }
   ],
   "source": [
    "# Replace None with appropriate code\n",
    "\n",
    "# Import the library\n",
    "import folium\n",
    "\n",
    "# Set up center latitude and longitude\n",
    "center_lat = response_json['region']['center']['latitude']\n",
    "center_long = response_json['region']['center']['longitude']\n",
    "\n",
    "# Initialize map with center lat and long\n",
    "yelp_map = folium.Map([center_lat, center_long], zoom_start=13)\n",
    "\n",
    "# Adjust this limit to see more or fewer businesses\n",
    "limit=100\n",
    "\n",
    "for business in full_dataset[:limit]:\n",
    "    # Extract information about business\n",
    "    lat = business['latitude']\n",
    "    long = business['longitude']\n",
    "    name = business['name']\n",
    "    rating = business['rating']\n",
    "    price = business['price']\n",
    "    details = \"{}\\n Price: {} Rating:{}\".format(name,price,rating)\n",
    "    \n",
    "    # Create popup with relevant details\n",
    "    popup = folium.Popup(details, parse_html=True)\n",
    "    \n",
    "    # Create marker with relevant lat/long and popup\n",
    "    \n",
    "    marker = folium.Marker(location=[lat, long], popup=popup)\n",
    "    \n",
    "    marker.add_to(yelp_map)\n",
    "    \n",
    "yelp_map"
   ]
  },
  {
   "cell_type": "markdown",
   "metadata": {},
   "source": [
    "## Summary\n",
    "\n",
    "Nice work! In this lab, you've made multiple API calls to Yelp in order to paginate through a results set, performing some basic exploratory analysis and then creating a nice interactive map to display the results using Folium! Well done!"
   ]
  }
 ],
 "metadata": {
  "kernelspec": {
   "display_name": "Python 3",
   "language": "python",
   "name": "python3"
  },
  "language_info": {
   "codemirror_mode": {
    "name": "ipython",
    "version": 3
   },
   "file_extension": ".py",
   "mimetype": "text/x-python",
   "name": "python",
   "nbconvert_exporter": "python",
   "pygments_lexer": "ipython3",
   "version": "3.8.5"
  },
  "toc": {
   "base_numbering": 1,
   "nav_menu": {},
   "number_sections": true,
   "sideBar": true,
   "skip_h1_title": false,
   "title_cell": "Table of Contents",
   "title_sidebar": "Contents",
   "toc_cell": false,
   "toc_position": {},
   "toc_section_display": true,
   "toc_window_display": false
  }
 },
 "nbformat": 4,
 "nbformat_minor": 2
}
